{
 "cells": [
  {
   "cell_type": "code",
   "execution_count": 1,
   "id": "8d4d000e",
   "metadata": {},
   "outputs": [],
   "source": [
    "import numpy as np\n",
    "import pandas as pd\n",
    "import matplotlib.pyplot as plt\n",
    "import os\n",
    "import random\n",
    "from PIL import Image\n",
    "import cv2\n",
    "from tensorflow.keras.utils import to_categorical\n",
    "from tensorflow.keras.preprocessing import image\n",
    "from sklearn.model_selection import train_test_split\n",
    "from tensorflow.keras.models import Sequential\n",
    "from tensorflow.keras.layers import Dense,MaxPooling2D,Conv2D,Flatten,Dropout\n",
    "from tensorflow.keras.optimizers import Adam"
   ]
  },
  {
   "cell_type": "code",
   "execution_count": 2,
   "id": "e2f4718a",
   "metadata": {},
   "outputs": [],
   "source": [
    "# from tensorflow.compat.v1 import ConfigProto\n",
    "# from tensorflow.compat.v1 import InteractiveSession\n",
    "\n",
    "# config = ConfigProto()\n",
    "# config.gpu_options.allow_growth = True\n",
    "# session = InteractiveSession(config = config)"
   ]
  },
  {
   "cell_type": "code",
   "execution_count": 3,
   "id": "c4313d00",
   "metadata": {},
   "outputs": [],
   "source": [
    "# import keras\n",
    "# import tensorflow as tf\n",
    "# config = tf.compat.v1.ConfigProto(device_count = {'GUP': 1, 'CPU' : 56})\n",
    "# sess = tf.compat.v1.Session(config=config)\n",
    "# keras.backend.set_session(sess)"
   ]
  },
  {
   "cell_type": "code",
   "execution_count": 4,
   "id": "6187d7c6",
   "metadata": {},
   "outputs": [
    {
     "name": "stdout",
     "output_type": "stream",
     "text": [
      "(50, 50)\n"
     ]
    },
    {
     "data": {
      "image/png": "[encoded data removed]",
      "text/plain": [
       "<Figure size 432x288 with 1 Axes>"
      ]
     },
     "metadata": {
      "needs_background": "light"
     },
     "output_type": "display_data"
    }
   ],
   "source": [
    "DataDir='C:/Users/Besitzer/Desktop/Neural_network/archive/seg_train/'#please change the path of deírectory as per data storage location\n",
    "Categories=['buildings','forest','glacier','mountain','sea','street']\n",
    "\n",
    "for categories in Categories:\n",
    "    path=os.path.join(DataDir+categories)#submerged path to all subdirectories\n",
    "    for img in os.listdir(path):  \n",
    "        img_array=cv2.imread(os.path.join(path,img))\n",
    "        img_array=cv2.cvtColor(img_array,cv2.COLOR_RGB2GRAY)\n",
    "        img_array=cv2.resize(img_array,(50,50))\n",
    "        plt.imshow(img_array,cmap=plt.get_cmap('gray'))\n",
    "        break\n",
    "    break \n",
    "print(img_array.shape)       "
   ]
  },
  {
   "cell_type": "code",
   "execution_count": 5,
   "id": "0b63594c",
   "metadata": {},
   "outputs": [],
   "source": [
    "traing_data=[]\n",
    "def creating_training_data():\n",
    "    for categories in Categories:\n",
    "        path=os.path.join(DataDir+categories)#submerged path to all subdirectories\n",
    "        class_num=Categories.index(categories)\n",
    "        for img in os.listdir(path):  \n",
    "            try:\n",
    "                img_array=cv2.imread(os.path.join(path,img))\n",
    "                img_array=cv2.cvtColor(img_array,cv2.COLOR_RGB2GRAY)\n",
    "                img_array=cv2.resize(img_array,(50,50))\n",
    "                traing_data.append([img_array,class_num])\n",
    "            except Exception as e:\n",
    "                pass\n",
    "\n",
    "                \n",
    "creating_training_data()\n"
   ]
  },
  {
   "cell_type": "code",
   "execution_count": 6,
   "id": "dab3d28d",
   "metadata": {},
   "outputs": [],
   "source": [
    "random.shuffle(traing_data)#mixes all subdirectories"
   ]
  },
  {
   "cell_type": "code",
   "execution_count": 7,
   "id": "1088f5b7",
   "metadata": {},
   "outputs": [],
   "source": [
    "X_data=[]\n",
    "y_data=[]\n",
    "for item in traing_data:\n",
    "    X_data.append(item[0])\n",
    "    y_data.append(item[1])\n",
    "    \n",
    "# print(len(X_data))\n",
    "# print(y_data[0:10])\n",
    "\n",
    "X_data=np.array(X_data).reshape(-1,50,50,1)\n",
    "y_data=np.array(y_data)\n",
    "# X_data.shape\n",
    "# y_data.shape\n"
   ]
  },
  {
   "cell_type": "code",
   "execution_count": 8,
   "id": "9f78b79b",
   "metadata": {},
   "outputs": [
    {
     "data": {
      "text/plain": [
       "14034"
      ]
     },
     "execution_count": 8,
     "metadata": {},
     "output_type": "execute_result"
    }
   ],
   "source": [
    "#OneHotEncoder\n",
    "cls=len(Categories)\n",
    "# print(cls)\n",
    "y_data=to_categorical(y_data,num_classes=cls)\n",
    "len(y_data)"
   ]
  },
  {
   "cell_type": "code",
   "execution_count": 9,
   "id": "1fe554c2",
   "metadata": {},
   "outputs": [
    {
     "name": "stdout",
     "output_type": "stream",
     "text": [
      "(11227, 50, 50, 1)\n"
     ]
    }
   ],
   "source": [
    "X_train,X_valid,y_train,y_valid=train_test_split(X_data,y_data,train_size=0.8,random_state=40)\n",
    "X_train=X_train/255\n",
    "X_valid=X_valid/255\n",
    "# print(len(X_train))\n",
    "# print(len(y_train))\n",
    "# print(len(X_valid))\n",
    "# print(len(y_valid))\n",
    "print(X_train.shape)\n",
    "      "
   ]
  },
  {
   "cell_type": "code",
   "execution_count": 10,
   "id": "c07797b7",
   "metadata": {},
   "outputs": [
    {
     "name": "stdout",
     "output_type": "stream",
     "text": [
      "Model: \"sequential\"\n",
      "_________________________________________________________________\n",
      " Layer (type)                Output Shape              Param #   \n",
      "=================================================================\n",
      " conv2d (Conv2D)             (None, 48, 48, 32)        320       \n",
      "                                                                 \n",
      " conv2d_1 (Conv2D)           (None, 46, 46, 16)        4624      \n",
      "                                                                 \n",
      " max_pooling2d (MaxPooling2D  (None, 15, 15, 16)       0         \n",
      " )                                                               \n",
      "                                                                 \n",
      " conv2d_2 (Conv2D)           (None, 14, 14, 32)        2080      \n",
      "                                                                 \n",
      " conv2d_3 (Conv2D)           (None, 13, 13, 32)        4128      \n",
      "                                                                 \n",
      " max_pooling2d_1 (MaxPooling  (None, 6, 6, 32)         0         \n",
      " 2D)                                                             \n",
      "                                                                 \n",
      " flatten (Flatten)           (None, 1152)              0         \n",
      "                                                                 \n",
      " dense (Dense)               (None, 200)               230600    \n",
      "                                                                 \n",
      " dropout (Dropout)           (None, 200)               0         \n",
      "                                                                 \n",
      " dropout_1 (Dropout)         (None, 200)               0         \n",
      "                                                                 \n",
      " dense_1 (Dense)             (None, 6)                 1206      \n",
      "                                                                 \n",
      "=================================================================\n",
      "Total params: 242,958\n",
      "Trainable params: 242,958\n",
      "Non-trainable params: 0\n",
      "_________________________________________________________________\n",
      "None\n"
     ]
    },
    {
     "name": "stderr",
     "output_type": "stream",
     "text": [
      "C:\\Users\\Besitzer\\anaconda3\\lib\\site-packages\\keras\\optimizer_v2\\adam.py:105: UserWarning: The `lr` argument is deprecated, use `learning_rate` instead.\n",
      "  super(Adam, self).__init__(name, **kwargs)\n"
     ]
    }
   ],
   "source": [
    "def LeNet_model():\n",
    "    \n",
    "    model=Sequential()\n",
    "    model.add(Conv2D(32, kernel_size=(3,3),input_shape=(50,50,1),activation='relu'))\n",
    "    model.add(Conv2D(16, kernel_size=(3,3),activation='relu'))\n",
    "    model.add(MaxPooling2D(pool_size=(3,3)))\n",
    "    model.add(Conv2D(32, kernel_size=(2,2),activation='relu'))\n",
    "    model.add(Conv2D(32, kernel_size=(2,2),activation='relu'))\n",
    "    model.add(MaxPooling2D(pool_size=(2,2)))\n",
    "    \n",
    "    model.add(Flatten())\n",
    "    model.add(Dense(200,activation='relu'))\n",
    "    model.add(Dropout(0.5))\n",
    "#     model.add(Dense(500,activation='relu'))\n",
    "    model.add(Dropout(0.5))\n",
    "    model.add(Dense(cls,activation='softmax'))\n",
    "    model.compile(Adam(lr=0.001),loss='categorical_crossentropy',metrics=['accuracy'])\n",
    "    return model\n",
    "\n",
    "model=LeNet_model()\n",
    "print(model.summary())"
   ]
  },
  {
   "cell_type": "code",
   "execution_count": 11,
   "id": "d3337aea",
   "metadata": {},
   "outputs": [
    {
     "name": "stdout",
     "output_type": "stream",
     "text": [
      "Epoch 1/20\n",
      "57/57 [==============================] - 14s 107ms/step - loss: 1.5145 - accuracy: 0.3570 - val_loss: 1.2383 - val_accuracy: 0.5052\n",
      "Epoch 2/20\n",
      "57/57 [==============================] - 5s 92ms/step - loss: 1.2297 - accuracy: 0.5057 - val_loss: 1.0830 - val_accuracy: 0.5843\n",
      "Epoch 3/20\n",
      "57/57 [==============================] - 5s 93ms/step - loss: 1.1256 - accuracy: 0.5481 - val_loss: 1.0484 - val_accuracy: 0.5932\n",
      "Epoch 4/20\n",
      "57/57 [==============================] - 5s 92ms/step - loss: 1.0564 - accuracy: 0.5751 - val_loss: 1.0230 - val_accuracy: 0.5903\n",
      "Epoch 5/20\n",
      "57/57 [==============================] - 5s 93ms/step - loss: 1.0188 - accuracy: 0.6020 - val_loss: 0.9202 - val_accuracy: 0.6519\n",
      "Epoch 6/20\n",
      "57/57 [==============================] - 5s 94ms/step - loss: 0.9906 - accuracy: 0.6181 - val_loss: 0.8992 - val_accuracy: 0.6452\n",
      "Epoch 7/20\n",
      "57/57 [==============================] - 5s 94ms/step - loss: 0.9222 - accuracy: 0.6486 - val_loss: 0.8529 - val_accuracy: 0.6815\n",
      "Epoch 8/20\n",
      "57/57 [==============================] - 5s 94ms/step - loss: 0.8784 - accuracy: 0.6707 - val_loss: 0.8356 - val_accuracy: 0.6851\n",
      "Epoch 9/20\n",
      "57/57 [==============================] - 5s 95ms/step - loss: 0.8770 - accuracy: 0.6720 - val_loss: 0.8380 - val_accuracy: 0.6794\n",
      "Epoch 10/20\n",
      "57/57 [==============================] - 5s 95ms/step - loss: 0.8304 - accuracy: 0.6881 - val_loss: 0.7556 - val_accuracy: 0.7161\n",
      "Epoch 11/20\n",
      "57/57 [==============================] - 5s 94ms/step - loss: 0.8002 - accuracy: 0.7049 - val_loss: 0.7688 - val_accuracy: 0.7189\n",
      "Epoch 12/20\n",
      "57/57 [==============================] - 5s 95ms/step - loss: 0.7915 - accuracy: 0.7074 - val_loss: 0.8586 - val_accuracy: 0.6804\n",
      "Epoch 13/20\n",
      "57/57 [==============================] - 5s 95ms/step - loss: 0.7883 - accuracy: 0.7144 - val_loss: 0.7122 - val_accuracy: 0.7300\n",
      "Epoch 14/20\n",
      "57/57 [==============================] - 5s 95ms/step - loss: 0.7733 - accuracy: 0.7147 - val_loss: 0.7738 - val_accuracy: 0.7104\n",
      "Epoch 15/20\n",
      "57/57 [==============================] - 5s 95ms/step - loss: 0.7463 - accuracy: 0.7251 - val_loss: 0.6957 - val_accuracy: 0.7428\n",
      "Epoch 16/20\n",
      "57/57 [==============================] - 5s 95ms/step - loss: 0.7242 - accuracy: 0.7372 - val_loss: 0.7904 - val_accuracy: 0.7032\n",
      "Epoch 17/20\n",
      "57/57 [==============================] - 5s 95ms/step - loss: 0.7158 - accuracy: 0.7417 - val_loss: 0.6977 - val_accuracy: 0.7410\n",
      "Epoch 18/20\n",
      "57/57 [==============================] - 5s 95ms/step - loss: 0.7099 - accuracy: 0.7412 - val_loss: 0.6970 - val_accuracy: 0.7503\n",
      "Epoch 19/20\n",
      "57/57 [==============================] - 5s 95ms/step - loss: 0.6863 - accuracy: 0.7508 - val_loss: 0.6570 - val_accuracy: 0.7528\n",
      "Epoch 20/20\n",
      "57/57 [==============================] - 5s 94ms/step - loss: 0.6755 - accuracy: 0.7552 - val_loss: 0.7029 - val_accuracy: 0.7471\n"
     ]
    }
   ],
   "source": [
    "h=model.fit(x=X_train,y=y_train,validation_data=(X_valid,y_valid),batch_size=200,epochs=20,verbose=1,shuffle=True)"
   ]
  },
  {
   "cell_type": "code",
   "execution_count": 12,
   "id": "3a156656",
   "metadata": {},
   "outputs": [
    {
     "name": "stderr",
     "output_type": "stream",
     "text": [
      "<ipython-input-12-2ef640aafd3d>:3: MatplotlibDeprecationWarning: Case-insensitive properties were deprecated in 3.3 and support will be removed two minor releases later\n",
      "  plt.title('Accuracy',fontWeight='bold')\n"
     ]
    },
    {
     "data": {
      "image/png": "[encoded data removed]",
      "text/plain": [
       "<Figure size 432x288 with 1 Axes>"
      ]
     },
     "metadata": {
      "needs_background": "light"
     },
     "output_type": "display_data"
    }
   ],
   "source": [
    "plt.plot(h.history['accuracy'])\n",
    "plt.plot(h.history['val_accuracy'])\n",
    "plt.title('Accuracy',fontWeight='bold')\n",
    "plt.legend(['Accuracy','Val_Accuracy'])\n",
    "plt.xlabel('Epochs')\n",
    "plt.ylabel('Accuracies')\n",
    "plt.axis(True)\n",
    "plt.grid(True)"
   ]
  },
  {
   "cell_type": "code",
   "execution_count": 13,
   "id": "93b681f4",
   "metadata": {},
   "outputs": [
    {
     "name": "stderr",
     "output_type": "stream",
     "text": [
      "<ipython-input-13-ebcc3641b031>:3: MatplotlibDeprecationWarning: Case-insensitive properties were deprecated in 3.3 and support will be removed two minor releases later\n",
      "  plt.title('Losses',fontWeight='bold')\n"
     ]
    },
    {
     "data": {
      "image/png": "[encoded data removed]",
      "text/plain": [
       "<Figure size 432x288 with 1 Axes>"
      ]
     },
     "metadata": {
      "needs_background": "light"
     },
     "output_type": "display_data"
    }
   ],
   "source": [
    "plt.plot(h.history['loss'])\n",
    "plt.plot(h.history['val_loss'])\n",
    "plt.title('Losses',fontWeight='bold')\n",
    "plt.legend(['Loss','Val_loss'])\n",
    "plt.xlabel('Epochs')\n",
    "plt.ylabel('Loss')\n",
    "plt.axis(True)\n",
    "plt.grid(True)"
   ]
  },
  {
   "cell_type": "code",
   "execution_count": 16,
   "id": "2d1316ed",
   "metadata": {},
   "outputs": [
    {
     "name": "stdout",
     "output_type": "stream",
     "text": [
      "3000\n"
     ]
    }
   ],
   "source": [
    "Categories=['buildings','forest','glacier','mountain','sea','street']\n",
    "Datadir='C:/Users/Besitzer/Desktop/Neural_network/archive/seg_test/'##please change the path of deírectory as per data storage location\n",
    "test_image=[]\n",
    "for category in Categories:\n",
    "    path=os.path.join(Datadir+category)\n",
    "    for img in os.listdir(path):\n",
    "        img_array=cv2.imread(os.path.join(path,img))\n",
    "        img_array=cv2.resize(img_array,(50,50))\n",
    "        img_array=cv2.cvtColor(img_array,cv2.COLOR_RGB2GRAY)\n",
    "        new_array=np.array(img_array).reshape(-1,50,50,1)\n",
    "        test_image.append(new_array)\n",
    "print(len(test_image))"
   ]
  },
  {
   "cell_type": "code",
   "execution_count": 37,
   "id": "0cbf7b86",
   "metadata": {},
   "outputs": [
    {
     "name": "stdout",
     "output_type": "stream",
     "text": [
      "(1, 50, 50, 1)\n",
      "glacier\n"
     ]
    },
    {
     "data": {
      "image/png": "[encoded data removed]",
      "text/plain": [
       "<Figure size 432x288 with 1 Axes>"
      ]
     },
     "metadata": {
      "needs_background": "light"
     },
     "output_type": "display_data"
    }
   ],
   "source": [
    "random_test=test_image[random.randint(0,len(test_image))]\n",
    "print(random_test.shape)\n",
    "prediction=np.argmax(model.predict(random_test),axis=1)\n",
    "print(Categories[int(prediction)])\n",
    "# random_test=random_test*255\n",
    "img = random_test.reshape((50,50,1))\n",
    "plt.imshow(img)\n",
    "plt.show()"
   ]
  }
 ],
 "metadata": {
  "kernelspec": {
   "display_name": "Python 3",
   "language": "python",
   "name": "python3"
  },
  "language_info": {
   "codemirror_mode": {
    "name": "ipython",
    "version": 3
   },
   "file_extension": ".py",
   "mimetype": "text/x-python",
   "name": "python",
   "nbconvert_exporter": "python",
   "pygments_lexer": "ipython3",
   "version": "3.8.8"
  }
 },
 "nbformat": 4,
 "nbformat_minor": 5
}
