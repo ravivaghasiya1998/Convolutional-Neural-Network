{
 "cells": [
  {
   "cell_type": "markdown",
   "id": "255d902d",
   "metadata": {},
   "source": [
    "#### Import necessary Libraries"
   ]
  },
  {
   "cell_type": "code",
   "execution_count": 92,
   "id": "3e3c285f",
   "metadata": {},
   "outputs": [],
   "source": [
    "import os\n",
    "import cv2\n",
    "import numpy as np\n",
    "import pandas as pd\n",
    "import keras\n",
    "from sklearn.model_selection import train_test_split\n",
    "from keras.utils.np_utils import to_categorical\n",
    "from tensorflow.keras.layers import Dense,MaxPool2D,Conv2D,Dropout,Flatten\n",
    "from tensorflow.keras.models import Sequential\n",
    "from tensorflow.keras.optimizers import Adam"
   ]
  },
  {
   "cell_type": "markdown",
   "id": "5e5509f0",
   "metadata": {},
   "source": [
    "#### Load csv from directory"
   ]
  },
  {
   "cell_type": "code",
   "execution_count": 93,
   "id": "180cd470",
   "metadata": {},
   "outputs": [
    {
     "data": {
      "text/html": [
       "<div>\n",
       "<style scoped>\n",
       "    .dataframe tbody tr th:only-of-type {\n",
       "        vertical-align: middle;\n",
       "    }\n",
       "\n",
       "    .dataframe tbody tr th {\n",
       "        vertical-align: top;\n",
       "    }\n",
       "\n",
       "    .dataframe thead th {\n",
       "        text-align: right;\n",
       "    }\n",
       "</style>\n",
       "<table border=\"1\" class=\"dataframe\">\n",
       "  <thead>\n",
       "    <tr style=\"text-align: right;\">\n",
       "      <th></th>\n",
       "      <th>Unnamed: 0</th>\n",
       "      <th>filename</th>\n",
       "      <th>pollen_carrying</th>\n",
       "    </tr>\n",
       "  </thead>\n",
       "  <tbody>\n",
       "    <tr>\n",
       "      <th>0</th>\n",
       "      <td>0</td>\n",
       "      <td>P10057-125r.jpg</td>\n",
       "      <td>1</td>\n",
       "    </tr>\n",
       "    <tr>\n",
       "      <th>1</th>\n",
       "      <td>1</td>\n",
       "      <td>P57380-120r.jpg</td>\n",
       "      <td>1</td>\n",
       "    </tr>\n",
       "    <tr>\n",
       "      <th>2</th>\n",
       "      <td>2</td>\n",
       "      <td>NP63671-221r.jpg</td>\n",
       "      <td>0</td>\n",
       "    </tr>\n",
       "    <tr>\n",
       "      <th>3</th>\n",
       "      <td>3</td>\n",
       "      <td>NP53776-47r.jpg</td>\n",
       "      <td>0</td>\n",
       "    </tr>\n",
       "    <tr>\n",
       "      <th>4</th>\n",
       "      <td>4</td>\n",
       "      <td>NP13382-201r.jpg</td>\n",
       "      <td>0</td>\n",
       "    </tr>\n",
       "  </tbody>\n",
       "</table>\n",
       "</div>"
      ],
      "text/plain": [
       "   Unnamed: 0          filename  pollen_carrying\n",
       "0           0   P10057-125r.jpg                1\n",
       "1           1   P57380-120r.jpg                1\n",
       "2           2  NP63671-221r.jpg                0\n",
       "3           3   NP53776-47r.jpg                0\n",
       "4           4  NP13382-201r.jpg                0"
      ]
     },
     "execution_count": 93,
     "metadata": {},
     "output_type": "execute_result"
    }
   ],
   "source": [
    "datadir=r'C:\\Users\\raviv\\Desktop\\archive\\PollenDataset\\images' # change path as per your directory location\n",
    "\n",
    "df=pd.read_csv('Honey_bee/pollen_data.csv',)\n",
    "df.head()"
   ]
  },
  {
   "cell_type": "markdown",
   "id": "b4223c0e",
   "metadata": {},
   "source": [
    "#### Load image data from directory"
   ]
  },
  {
   "cell_type": "code",
   "execution_count": 94,
   "id": "3c747460",
   "metadata": {},
   "outputs": [],
   "source": [
    "image_data=[]\n",
    "labels=[]\n",
    "\n",
    "for img,label in zip(df['filename'],df['pollen_carrying']):\n",
    "    try:\n",
    "        image=cv2.imread(os.path.join(datadir,img))\n",
    "        image=cv2.resize(image,dsize=(100,100))\n",
    "        image_data.append(image)\n",
    "        labels.append(label)\n",
    "    \n",
    "    except Exception as e:\n",
    "        pass"
   ]
  },
  {
   "cell_type": "code",
   "execution_count": 95,
   "id": "f3f8de25",
   "metadata": {},
   "outputs": [],
   "source": [
    "X=np.array(image_data)\n",
    "y=np.array(labels)"
   ]
  },
  {
   "cell_type": "markdown",
   "id": "7527c71f",
   "metadata": {},
   "source": [
    "#### Splita data set into train, test data sets"
   ]
  },
  {
   "cell_type": "code",
   "execution_count": 96,
   "id": "b9607b53",
   "metadata": {},
   "outputs": [],
   "source": [
    "X_train,X_test,y_train,y_test=train_test_split(X,y,test_size=0.2)"
   ]
  },
  {
   "cell_type": "markdown",
   "id": "b4b31822",
   "metadata": {},
   "source": [
    "#### Convert binary labels class into categorical class labels"
   ]
  },
  {
   "cell_type": "code",
   "execution_count": 97,
   "id": "85feb2cb",
   "metadata": {},
   "outputs": [
    {
     "data": {
      "text/plain": [
       "(143, 2)"
      ]
     },
     "execution_count": 97,
     "metadata": {},
     "output_type": "execute_result"
    }
   ],
   "source": [
    "y_train=to_categorical(y_train,len(np.unique(y_train)))\n",
    "y_test=to_categorical(y_test,len(np.unique(y_test)))\n",
    "y_test.shape"
   ]
  },
  {
   "cell_type": "markdown",
   "id": "f39dcd2b",
   "metadata": {},
   "source": [
    "#### Reshape the training and test features"
   ]
  },
  {
   "cell_type": "code",
   "execution_count": 98,
   "id": "f52c082d",
   "metadata": {},
   "outputs": [
    {
     "data": {
      "text/plain": [
       "(571, 100, 100, 3)"
      ]
     },
     "execution_count": 98,
     "metadata": {},
     "output_type": "execute_result"
    }
   ],
   "source": [
    "X_train=X_train.reshape(-1,100,100,3)\n",
    "X_test=X_test.reshape(-1,100,100,3)\n",
    "X_train.shape"
   ]
  },
  {
   "cell_type": "markdown",
   "id": "80c33788",
   "metadata": {},
   "source": [
    "#### Create Convolutional Neural Network"
   ]
  },
  {
   "cell_type": "code",
   "execution_count": 99,
   "id": "5e0e2ec7",
   "metadata": {},
   "outputs": [],
   "source": [
    "def cnn_model():\n",
    "    model=Sequential()\n",
    "    model.add(Conv2D(filters=64,kernel_size=(2,2),strides=(1,1),padding='valid',input_shape=(100,100,3),activation='relu'))\n",
    "    model.add(MaxPool2D(pool_size=(2,2),strides=(1,1),padding='valid'))\n",
    "    \n",
    "    model.add(Conv2D(filters=64,kernel_size=(3,3),strides=(1,1),padding='valid',activation='relu'))\n",
    "    model.add(Conv2D(filters=48,kernel_size=(2,2),strides=(1,1),padding='valid',activation='relu'))\n",
    "    model.add(MaxPool2D(pool_size=(2,2),strides=(1,1),padding='valid'))\n",
    "    \n",
    "    model.add(Conv2D(filters=64,kernel_size=(3,3),strides=(1,1),padding='valid',activation='relu'))\n",
    "    model.add(MaxPool2D(pool_size=(2,2),strides=(1,1),padding='valid'))\n",
    "    model.add(Conv2D(filters=48,kernel_size=(3,3),strides=(1,1),padding='valid',activation='relu'))\n",
    "    model.add(Conv2D(filters=48,kernel_size=(3,3),strides=(1,1),padding='valid',activation='relu'))\n",
    "    model.add(Dropout(0.5))\n",
    "    \n",
    "    model.add(Dense(units=200,activation='relu'))\n",
    "    model.add(Conv2D(filters=64,kernel_size=(3,3),strides=(1,1),padding='valid',activation='relu'))\n",
    "    model.add(Flatten())\n",
    "    \n",
    "    model.add(Dense(units=2,activation='sigmoid'))\n",
    "    model.compile(Adam(learning_rate=0.001),loss='binary_crossentropy',metrics=['accuracy'])\n",
    "    return model\n",
    "\n",
    "    "
   ]
  },
  {
   "cell_type": "markdown",
   "id": "c886265b",
   "metadata": {},
   "source": [
    "#### Load the defined CNN model"
   ]
  },
  {
   "cell_type": "code",
   "execution_count": 100,
   "id": "d7914ec3",
   "metadata": {},
   "outputs": [],
   "source": [
    "model=cnn_model()"
   ]
  },
  {
   "cell_type": "markdown",
   "id": "0015346e",
   "metadata": {},
   "source": [
    "#### Print model summary"
   ]
  },
  {
   "cell_type": "code",
   "execution_count": 101,
   "id": "812a3c7a",
   "metadata": {},
   "outputs": [
    {
     "name": "stdout",
     "output_type": "stream",
     "text": [
      "Model: \"sequential_12\"\n",
      "_________________________________________________________________\n",
      "Layer (type)                 Output Shape              Param #   \n",
      "=================================================================\n",
      "conv2d_64 (Conv2D)           (None, 99, 99, 64)        832       \n",
      "_________________________________________________________________\n",
      "max_pooling2d_30 (MaxPooling (None, 98, 98, 64)        0         \n",
      "_________________________________________________________________\n",
      "conv2d_65 (Conv2D)           (None, 96, 96, 64)        36928     \n",
      "_________________________________________________________________\n",
      "conv2d_66 (Conv2D)           (None, 95, 95, 48)        12336     \n",
      "_________________________________________________________________\n",
      "max_pooling2d_31 (MaxPooling (None, 94, 94, 48)        0         \n",
      "_________________________________________________________________\n",
      "conv2d_67 (Conv2D)           (None, 92, 92, 64)        27712     \n",
      "_________________________________________________________________\n",
      "max_pooling2d_32 (MaxPooling (None, 91, 91, 64)        0         \n",
      "_________________________________________________________________\n",
      "conv2d_68 (Conv2D)           (None, 89, 89, 48)        27696     \n",
      "_________________________________________________________________\n",
      "conv2d_69 (Conv2D)           (None, 87, 87, 48)        20784     \n",
      "_________________________________________________________________\n",
      "dropout_10 (Dropout)         (None, 87, 87, 48)        0         \n",
      "_________________________________________________________________\n",
      "dense_20 (Dense)             (None, 87, 87, 200)       9800      \n",
      "_________________________________________________________________\n",
      "conv2d_70 (Conv2D)           (None, 85, 85, 64)        115264    \n",
      "_________________________________________________________________\n",
      "flatten_6 (Flatten)          (None, 462400)            0         \n",
      "_________________________________________________________________\n",
      "dense_21 (Dense)             (None, 2)                 924802    \n",
      "=================================================================\n",
      "Total params: 1,176,154\n",
      "Trainable params: 1,176,154\n",
      "Non-trainable params: 0\n",
      "_________________________________________________________________\n",
      "None\n"
     ]
    }
   ],
   "source": [
    "print(model.summary())"
   ]
  },
  {
   "cell_type": "markdown",
   "id": "92b07a3b",
   "metadata": {},
   "source": [
    "#### Train the CNN model on training datasets"
   ]
  },
  {
   "cell_type": "code",
   "execution_count": 104,
   "id": "5061243a",
   "metadata": {},
   "outputs": [
    {
     "name": "stdout",
     "output_type": "stream",
     "text": [
      "Epoch 1/30\n",
      "31/31 [==============================] - 13s 407ms/step - loss: 1.1930 - accuracy: 0.5044 - val_loss: 0.6931 - val_accuracy: 0.5043\n",
      "Epoch 2/30\n",
      "31/31 [==============================] - 12s 397ms/step - loss: 0.6929 - accuracy: 0.5373 - val_loss: 0.6931 - val_accuracy: 0.5043\n",
      "Epoch 3/30\n",
      "31/31 [==============================] - 12s 397ms/step - loss: 0.6927 - accuracy: 0.5373 - val_loss: 0.6931 - val_accuracy: 0.5043\n",
      "Epoch 4/30\n",
      "31/31 [==============================] - 12s 397ms/step - loss: 0.6925 - accuracy: 0.5373 - val_loss: 0.6931 - val_accuracy: 0.5043\n",
      "Epoch 5/30\n",
      "31/31 [==============================] - 12s 397ms/step - loss: 0.6923 - accuracy: 0.5373 - val_loss: 0.6931 - val_accuracy: 0.5043\n",
      "Epoch 6/30\n",
      "31/31 [==============================] - 12s 397ms/step - loss: 0.6921 - accuracy: 0.5373 - val_loss: 0.6932 - val_accuracy: 0.5043\n",
      "Epoch 7/30\n",
      "31/31 [==============================] - 12s 397ms/step - loss: 0.6919 - accuracy: 0.5373 - val_loss: 0.6932 - val_accuracy: 0.5043\n",
      "Epoch 8/30\n",
      "31/31 [==============================] - 12s 397ms/step - loss: 0.6918 - accuracy: 0.5373 - val_loss: 0.6932 - val_accuracy: 0.5043\n",
      "Epoch 9/30\n",
      "31/31 [==============================] - 12s 397ms/step - loss: 0.6916 - accuracy: 0.5373 - val_loss: 0.6933 - val_accuracy: 0.5043\n",
      "Epoch 10/30\n",
      "31/31 [==============================] - 12s 397ms/step - loss: 0.6915 - accuracy: 0.5373 - val_loss: 0.6933 - val_accuracy: 0.5043\n",
      "Epoch 11/30\n",
      "31/31 [==============================] - 12s 397ms/step - loss: 0.6914 - accuracy: 0.5373 - val_loss: 0.6934 - val_accuracy: 0.5043\n",
      "Epoch 12/30\n",
      "31/31 [==============================] - 12s 397ms/step - loss: 0.6914 - accuracy: 0.5373 - val_loss: 0.6934 - val_accuracy: 0.5043\n",
      "Epoch 13/30\n",
      "31/31 [==============================] - 12s 397ms/step - loss: 0.6912 - accuracy: 0.5373 - val_loss: 0.6934 - val_accuracy: 0.5043\n",
      "Epoch 14/30\n",
      "31/31 [==============================] - 12s 397ms/step - loss: 0.6911 - accuracy: 0.5373 - val_loss: 0.6936 - val_accuracy: 0.5043\n",
      "Epoch 15/30\n",
      "31/31 [==============================] - 12s 397ms/step - loss: 0.6910 - accuracy: 0.5373 - val_loss: 0.6936 - val_accuracy: 0.5043\n",
      "Epoch 16/30\n",
      "31/31 [==============================] - 12s 397ms/step - loss: 0.6909 - accuracy: 0.5373 - val_loss: 0.6937 - val_accuracy: 0.5043\n",
      "Epoch 17/30\n",
      "31/31 [==============================] - 12s 397ms/step - loss: 0.6909 - accuracy: 0.5373 - val_loss: 0.6937 - val_accuracy: 0.5043\n",
      "Epoch 18/30\n",
      "31/31 [==============================] - 12s 397ms/step - loss: 0.6908 - accuracy: 0.5373 - val_loss: 0.6938 - val_accuracy: 0.5043\n",
      "Epoch 19/30\n",
      "31/31 [==============================] - 12s 397ms/step - loss: 0.6908 - accuracy: 0.5373 - val_loss: 0.6939 - val_accuracy: 0.5043\n",
      "Epoch 20/30\n",
      "31/31 [==============================] - 12s 397ms/step - loss: 0.6907 - accuracy: 0.5373 - val_loss: 0.6939 - val_accuracy: 0.5043\n",
      "Epoch 21/30\n",
      "31/31 [==============================] - 12s 397ms/step - loss: 0.6907 - accuracy: 0.5373 - val_loss: 0.6939 - val_accuracy: 0.5043\n",
      "Epoch 22/30\n",
      "31/31 [==============================] - 12s 397ms/step - loss: 0.6907 - accuracy: 0.5373 - val_loss: 0.6941 - val_accuracy: 0.5043\n",
      "Epoch 23/30\n",
      "31/31 [==============================] - 12s 397ms/step - loss: 0.6907 - accuracy: 0.5373 - val_loss: 0.6941 - val_accuracy: 0.5043\n",
      "Epoch 24/30\n",
      "31/31 [==============================] - 12s 397ms/step - loss: 0.6906 - accuracy: 0.5373 - val_loss: 0.6941 - val_accuracy: 0.5043\n",
      "Epoch 25/30\n",
      "31/31 [==============================] - 12s 397ms/step - loss: 0.6906 - accuracy: 0.5373 - val_loss: 0.6942 - val_accuracy: 0.5043\n",
      "Epoch 26/30\n",
      "31/31 [==============================] - 12s 397ms/step - loss: 0.6906 - accuracy: 0.5373 - val_loss: 0.6942 - val_accuracy: 0.5043\n",
      "Epoch 27/30\n",
      "31/31 [==============================] - 12s 397ms/step - loss: 0.6905 - accuracy: 0.5373 - val_loss: 0.6943 - val_accuracy: 0.5043\n",
      "Epoch 28/30\n",
      "31/31 [==============================] - 12s 397ms/step - loss: 0.6906 - accuracy: 0.5373 - val_loss: 0.6944 - val_accuracy: 0.5043\n",
      "Epoch 29/30\n",
      "31/31 [==============================] - 12s 397ms/step - loss: 0.6905 - accuracy: 0.5373 - val_loss: 0.6943 - val_accuracy: 0.5043\n",
      "Epoch 30/30\n",
      "31/31 [==============================] - 12s 397ms/step - loss: 0.6905 - accuracy: 0.5373 - val_loss: 0.6944 - val_accuracy: 0.5043\n"
     ]
    }
   ],
   "source": [
    "h=model.fit(x=X_train,y=y_train,batch_size=15,epochs=30,shuffle=True,validation_split=0.2,verbose=1)"
   ]
  },
  {
   "cell_type": "markdown",
   "id": "724f676a",
   "metadata": {},
   "source": [
    "#### Evaluate the model and find score"
   ]
  },
  {
   "cell_type": "code",
   "execution_count": 116,
   "id": "53db5914",
   "metadata": {},
   "outputs": [
    {
     "name": "stdout",
     "output_type": "stream",
     "text": [
      "5/5 [==============================] - 1s 186ms/step - loss: 0.6995 - accuracy: 0.4615\n",
      "test Accuracy is 69.95 %\n",
      "Test score is 0.46\n"
     ]
    }
   ],
   "source": [
    "score=model.evaluate(X_test,y_test)\n",
    "print('test Accuracy is {:.2f} %'.format(score[0]*100))\n",
    "print('Test score is {:.2f}'.format(score[1]))"
   ]
  },
  {
   "cell_type": "markdown",
   "id": "476c26a5",
   "metadata": {},
   "source": [
    "#### Predict the test results"
   ]
  },
  {
   "cell_type": "code",
   "execution_count": 117,
   "id": "39cb4180",
   "metadata": {},
   "outputs": [],
   "source": [
    "y_predict=np.argmax(model.predict(X_test),axis=1)"
   ]
  }
 ],
 "metadata": {
  "kernelspec": {
   "display_name": "Python 3 (ipykernel)",
   "language": "python",
   "name": "python3"
  },
  "language_info": {
   "codemirror_mode": {
    "name": "ipython",
    "version": 3
   },
   "file_extension": ".py",
   "mimetype": "text/x-python",
   "name": "python",
   "nbconvert_exporter": "python",
   "pygments_lexer": "ipython3",
   "version": "3.9.7"
  }
 },
 "nbformat": 4,
 "nbformat_minor": 5
}
